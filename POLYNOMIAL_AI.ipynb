{
  "nbformat": 4,
  "nbformat_minor": 0,
  "metadata": {
    "colab": {
      "name": "Copy of DB2_S1_Extended TPU",
      "provenance": [],
      "collapsed_sections": [],
      "machine_shape": "hm"
    },
    "kernelspec": {
      "name": "python3",
      "display_name": "Python 3"
    }
  },
  "cells": [
    {
      "cell_type": "markdown",
      "source": [
        "# Mounting drive"
      ],
      "metadata": {
        "id": "hKprH90SfIm4"
      }
    },
    {
      "cell_type": "code",
      "source": [
        "from google.colab import drive\n",
        "drive.mount('/content/drive')"
      ],
      "metadata": {
        "id": "eRrOPYeAN6zN",
        "outputId": "46baf181-a56b-41ac-8dc6-5b16fb5e8898",
        "colab": {
          "base_uri": "https://localhost:8080/"
        }
      },
      "execution_count": null,
      "outputs": [
        {
          "output_type": "stream",
          "name": "stdout",
          "text": [
            "Drive already mounted at /content/drive; to attempt to forcibly remount, call drive.mount(\"/content/drive\", force_remount=True).\n"
          ]
        }
      ]
    },
    {
      "cell_type": "markdown",
      "source": [
        "# Importing necessary libraries"
      ],
      "metadata": {
        "id": "4kj8xIVDfSyk"
      }
    },
    {
      "cell_type": "code",
      "source": [
        "import pandas as pd\n",
        "import numpy as np\n",
        "from sklearn.linear_model import LogisticRegression\n",
        "from sklearn.neighbors import KNeighborsClassifier\n",
        "from sklearn.svm import SVC\n",
        "from sklearn.ensemble import RandomForestClassifier\n",
        "from sklearn.naive_bayes import GaussianNB\n",
        "from xgboost import XGBClassifier\n",
        "from sklearn import model_selection\n",
        "from sklearn.utils import class_weight\n",
        "from sklearn.metrics import classification_report\n",
        "from sklearn.metrics import confusion_matrix\n",
        "from sklearn.feature_extraction.text import TfidfVectorizer\n",
        "from sklearn.pipeline import Pipeline\n",
        "from sklearn.model_selection import train_test_split\n",
        "from sklearn.metrics import confusion_matrix,classification_report\n",
        "from sklearn.feature_extraction.text import TfidfVectorizer\n",
        "from sklearn.tree import DecisionTreeClassifier"
      ],
      "metadata": {
        "execution": {
          "iopub.status.busy": "2022-02-16T10:55:44.266265Z",
          "iopub.execute_input": "2022-02-16T10:55:44.267027Z",
          "iopub.status.idle": "2022-02-16T10:55:44.294603Z",
          "shell.execute_reply.started": "2022-02-16T10:55:44.266924Z",
          "shell.execute_reply": "2022-02-16T10:55:44.293664Z"
        },
        "trusted": true,
        "id": "lKP2CspjNphf"
      },
      "execution_count": null,
      "outputs": []
    },
    {
      "cell_type": "markdown",
      "source": [
        "# Loading data"
      ],
      "metadata": {
        "id": "eUd90scmfd9O"
      }
    },
    {
      "cell_type": "code",
      "source": [
        "data_frames = []\n",
        "chunk_value = 5000\n",
        "temp = pd.read_json('/content/drive/MyDrive/Cell_Phones_and_Accessories.json.gz', lines=True, chunksize=chunk_value)\n",
        "for chunk in temp:\n",
        "        data_frames.append(chunk)\n",
        "\n",
        "df = pd.concat(data_frames, ignore_index=True, sort=True)"
      ],
      "metadata": {
        "execution": {
          "iopub.status.busy": "2022-02-16T10:55:44.297373Z",
          "iopub.execute_input": "2022-02-16T10:55:44.297733Z",
          "iopub.status.idle": "2022-02-16T10:59:13.403777Z",
          "shell.execute_reply.started": "2022-02-16T10:55:44.297687Z",
          "shell.execute_reply": "2022-02-16T10:59:13.402381Z"
        },
        "trusted": true,
        "id": "AoiGdE30Nphk"
      },
      "execution_count": null,
      "outputs": []
    },
    {
      "cell_type": "code",
      "source": [
        "df.head()"
      ],
      "metadata": {
        "execution": {
          "iopub.status.busy": "2022-02-16T10:59:13.411007Z",
          "iopub.execute_input": "2022-02-16T10:59:13.411363Z",
          "iopub.status.idle": "2022-02-16T10:59:13.438713Z",
          "shell.execute_reply.started": "2022-02-16T10:59:13.411321Z",
          "shell.execute_reply": "2022-02-16T10:59:13.437822Z"
        },
        "trusted": true,
        "id": "NQ5kOYgzNphl",
        "outputId": "c06bbfc4-e893-49c5-c7b4-393658a8ef92",
        "colab": {
          "base_uri": "https://localhost:8080/",
          "height": 389
        }
      },
      "execution_count": null,
      "outputs": [
        {
          "output_type": "execute_result",
          "data": {
            "text/html": [
              "\n",
              "  <div id=\"df-f381809c-b056-4369-8569-14bc5c26ef0a\">\n",
              "    <div class=\"colab-df-container\">\n",
              "      <div>\n",
              "<style scoped>\n",
              "    .dataframe tbody tr th:only-of-type {\n",
              "        vertical-align: middle;\n",
              "    }\n",
              "\n",
              "    .dataframe tbody tr th {\n",
              "        vertical-align: top;\n",
              "    }\n",
              "\n",
              "    .dataframe thead th {\n",
              "        text-align: right;\n",
              "    }\n",
              "</style>\n",
              "<table border=\"1\" class=\"dataframe\">\n",
              "  <thead>\n",
              "    <tr style=\"text-align: right;\">\n",
              "      <th></th>\n",
              "      <th>asin</th>\n",
              "      <th>image</th>\n",
              "      <th>overall</th>\n",
              "      <th>reviewText</th>\n",
              "      <th>reviewTime</th>\n",
              "      <th>reviewerID</th>\n",
              "      <th>reviewerName</th>\n",
              "      <th>style</th>\n",
              "      <th>summary</th>\n",
              "      <th>unixReviewTime</th>\n",
              "      <th>verified</th>\n",
              "      <th>vote</th>\n",
              "    </tr>\n",
              "  </thead>\n",
              "  <tbody>\n",
              "    <tr>\n",
              "      <th>0</th>\n",
              "      <td>098949232X</td>\n",
              "      <td>NaN</td>\n",
              "      <td>5</td>\n",
              "      <td>If your into space this is the Calendar for you.</td>\n",
              "      <td>11 19, 2014</td>\n",
              "      <td>A1GG51FWU0XQYH</td>\n",
              "      <td>Paul Williams</td>\n",
              "      <td>NaN</td>\n",
              "      <td>Five Stars</td>\n",
              "      <td>1416355200</td>\n",
              "      <td>False</td>\n",
              "      <td>NaN</td>\n",
              "    </tr>\n",
              "    <tr>\n",
              "      <th>1</th>\n",
              "      <td>098949232X</td>\n",
              "      <td>NaN</td>\n",
              "      <td>5</td>\n",
              "      <td>Awesome pictures!</td>\n",
              "      <td>11 19, 2014</td>\n",
              "      <td>AVFIDS9RK38E0</td>\n",
              "      <td>Sean Powell</td>\n",
              "      <td>NaN</td>\n",
              "      <td>Five Stars</td>\n",
              "      <td>1416355200</td>\n",
              "      <td>False</td>\n",
              "      <td>NaN</td>\n",
              "    </tr>\n",
              "    <tr>\n",
              "      <th>2</th>\n",
              "      <td>098949232X</td>\n",
              "      <td>NaN</td>\n",
              "      <td>5</td>\n",
              "      <td>Great wall art and information for space explo...</td>\n",
              "      <td>11 19, 2014</td>\n",
              "      <td>A2S4AVR5SJ7KMI</td>\n",
              "      <td>Tom Davis</td>\n",
              "      <td>NaN</td>\n",
              "      <td>Five Stars</td>\n",
              "      <td>1416355200</td>\n",
              "      <td>False</td>\n",
              "      <td>NaN</td>\n",
              "    </tr>\n",
              "    <tr>\n",
              "      <th>3</th>\n",
              "      <td>098949232X</td>\n",
              "      <td>NaN</td>\n",
              "      <td>5</td>\n",
              "      <td>As always, it is a quality calendar full of ve...</td>\n",
              "      <td>11 19, 2014</td>\n",
              "      <td>AEMMMVOR9BFLI</td>\n",
              "      <td>Kwajmeck</td>\n",
              "      <td>NaN</td>\n",
              "      <td>I love it. I buy a new one every year</td>\n",
              "      <td>1416355200</td>\n",
              "      <td>False</td>\n",
              "      <td>NaN</td>\n",
              "    </tr>\n",
              "    <tr>\n",
              "      <th>4</th>\n",
              "      <td>098949232X</td>\n",
              "      <td>NaN</td>\n",
              "      <td>5</td>\n",
              "      <td>This is a fantastic calendar. This is my third...</td>\n",
              "      <td>11 19, 2014</td>\n",
              "      <td>A2DZXMBTY7KLYP</td>\n",
              "      <td>ScottG43</td>\n",
              "      <td>NaN</td>\n",
              "      <td>Great Calendar.</td>\n",
              "      <td>1416355200</td>\n",
              "      <td>False</td>\n",
              "      <td>NaN</td>\n",
              "    </tr>\n",
              "  </tbody>\n",
              "</table>\n",
              "</div>\n",
              "      <button class=\"colab-df-convert\" onclick=\"convertToInteractive('df-f381809c-b056-4369-8569-14bc5c26ef0a')\"\n",
              "              title=\"Convert this dataframe to an interactive table.\"\n",
              "              style=\"display:none;\">\n",
              "        \n",
              "  <svg xmlns=\"http://www.w3.org/2000/svg\" height=\"24px\"viewBox=\"0 0 24 24\"\n",
              "       width=\"24px\">\n",
              "    <path d=\"M0 0h24v24H0V0z\" fill=\"none\"/>\n",
              "    <path d=\"M18.56 5.44l.94 2.06.94-2.06 2.06-.94-2.06-.94-.94-2.06-.94 2.06-2.06.94zm-11 1L8.5 8.5l.94-2.06 2.06-.94-2.06-.94L8.5 2.5l-.94 2.06-2.06.94zm10 10l.94 2.06.94-2.06 2.06-.94-2.06-.94-.94-2.06-.94 2.06-2.06.94z\"/><path d=\"M17.41 7.96l-1.37-1.37c-.4-.4-.92-.59-1.43-.59-.52 0-1.04.2-1.43.59L10.3 9.45l-7.72 7.72c-.78.78-.78 2.05 0 2.83L4 21.41c.39.39.9.59 1.41.59.51 0 1.02-.2 1.41-.59l7.78-7.78 2.81-2.81c.8-.78.8-2.07 0-2.86zM5.41 20L4 18.59l7.72-7.72 1.47 1.35L5.41 20z\"/>\n",
              "  </svg>\n",
              "      </button>\n",
              "      \n",
              "  <style>\n",
              "    .colab-df-container {\n",
              "      display:flex;\n",
              "      flex-wrap:wrap;\n",
              "      gap: 12px;\n",
              "    }\n",
              "\n",
              "    .colab-df-convert {\n",
              "      background-color: #E8F0FE;\n",
              "      border: none;\n",
              "      border-radius: 50%;\n",
              "      cursor: pointer;\n",
              "      display: none;\n",
              "      fill: #1967D2;\n",
              "      height: 32px;\n",
              "      padding: 0 0 0 0;\n",
              "      width: 32px;\n",
              "    }\n",
              "\n",
              "    .colab-df-convert:hover {\n",
              "      background-color: #E2EBFA;\n",
              "      box-shadow: 0px 1px 2px rgba(60, 64, 67, 0.3), 0px 1px 3px 1px rgba(60, 64, 67, 0.15);\n",
              "      fill: #174EA6;\n",
              "    }\n",
              "\n",
              "    [theme=dark] .colab-df-convert {\n",
              "      background-color: #3B4455;\n",
              "      fill: #D2E3FC;\n",
              "    }\n",
              "\n",
              "    [theme=dark] .colab-df-convert:hover {\n",
              "      background-color: #434B5C;\n",
              "      box-shadow: 0px 1px 3px 1px rgba(0, 0, 0, 0.15);\n",
              "      filter: drop-shadow(0px 1px 2px rgba(0, 0, 0, 0.3));\n",
              "      fill: #FFFFFF;\n",
              "    }\n",
              "  </style>\n",
              "\n",
              "      <script>\n",
              "        const buttonEl =\n",
              "          document.querySelector('#df-f381809c-b056-4369-8569-14bc5c26ef0a button.colab-df-convert');\n",
              "        buttonEl.style.display =\n",
              "          google.colab.kernel.accessAllowed ? 'block' : 'none';\n",
              "\n",
              "        async function convertToInteractive(key) {\n",
              "          const element = document.querySelector('#df-f381809c-b056-4369-8569-14bc5c26ef0a');\n",
              "          const dataTable =\n",
              "            await google.colab.kernel.invokeFunction('convertToInteractive',\n",
              "                                                     [key], {});\n",
              "          if (!dataTable) return;\n",
              "\n",
              "          const docLinkHtml = 'Like what you see? Visit the ' +\n",
              "            '<a target=\"_blank\" href=https://colab.research.google.com/notebooks/data_table.ipynb>data table notebook</a>'\n",
              "            + ' to learn more about interactive tables.';\n",
              "          element.innerHTML = '';\n",
              "          dataTable['output_type'] = 'display_data';\n",
              "          await google.colab.output.renderOutput(dataTable, element);\n",
              "          const docLink = document.createElement('div');\n",
              "          docLink.innerHTML = docLinkHtml;\n",
              "          element.appendChild(docLink);\n",
              "        }\n",
              "      </script>\n",
              "    </div>\n",
              "  </div>\n",
              "  "
            ],
            "text/plain": [
              "         asin image  overall  ... unixReviewTime verified vote\n",
              "0  098949232X   NaN        5  ...     1416355200    False  NaN\n",
              "1  098949232X   NaN        5  ...     1416355200    False  NaN\n",
              "2  098949232X   NaN        5  ...     1416355200    False  NaN\n",
              "3  098949232X   NaN        5  ...     1416355200    False  NaN\n",
              "4  098949232X   NaN        5  ...     1416355200    False  NaN\n",
              "\n",
              "[5 rows x 12 columns]"
            ]
          },
          "metadata": {},
          "execution_count": 4
        }
      ]
    },
    {
      "cell_type": "code",
      "source": [
        "df.shape"
      ],
      "metadata": {
        "execution": {
          "iopub.status.busy": "2022-02-16T10:59:13.441439Z",
          "iopub.execute_input": "2022-02-16T10:59:13.441980Z",
          "iopub.status.idle": "2022-02-16T10:59:13.448270Z",
          "shell.execute_reply.started": "2022-02-16T10:59:13.441933Z",
          "shell.execute_reply": "2022-02-16T10:59:13.447654Z"
        },
        "trusted": true,
        "id": "DMOJbD4qNphl",
        "outputId": "b2ee136f-7deb-40d5-c382-4975dfa9ddc1",
        "colab": {
          "base_uri": "https://localhost:8080/"
        }
      },
      "execution_count": null,
      "outputs": [
        {
          "output_type": "execute_result",
          "data": {
            "text/plain": [
              "(10063255, 12)"
            ]
          },
          "metadata": {},
          "execution_count": 5
        }
      ]
    },
    {
      "cell_type": "markdown",
      "source": [
        "# Data preprocessing"
      ],
      "metadata": {
        "id": "3AernVVEfmgf"
      }
    },
    {
      "cell_type": "markdown",
      "source": [
        "Extarcting only reviews between 2017-2018"
      ],
      "metadata": {
        "id": "FHh8tFu_ZIPU"
      }
    },
    {
      "cell_type": "code",
      "source": [
        "indices = []\n",
        "for i in range(0,df.shape[0]):\n",
        "    if df.iloc[i,4][7:11] == '2017':\n",
        "        indices.append(i)\n",
        "        \n",
        "df = df.iloc[indices, :]\n",
        "df = df.reset_index(drop=True)"
      ],
      "metadata": {
        "id": "FaziSqvMUvnx"
      },
      "execution_count": null,
      "outputs": []
    },
    {
      "cell_type": "code",
      "source": [
        "df.shape"
      ],
      "metadata": {
        "id": "t8vXiLsYcmkD",
        "outputId": "26024df3-0eeb-43b3-9f60-ab42507d5e9a",
        "colab": {
          "base_uri": "https://localhost:8080/"
        }
      },
      "execution_count": null,
      "outputs": [
        {
          "output_type": "execute_result",
          "data": {
            "text/plain": [
              "(975705, 12)"
            ]
          },
          "metadata": {},
          "execution_count": 7
        }
      ]
    },
    {
      "cell_type": "markdown",
      "source": [
        "Removing unnecessary columns and sampling data"
      ],
      "metadata": {
        "id": "LO5Jc-U3ZQM4"
      }
    },
    {
      "cell_type": "code",
      "source": [
        "df = df.sample(n = 100000)\n",
        "df = df[['reviewText','overall']]"
      ],
      "metadata": {
        "execution": {
          "iopub.status.busy": "2022-02-16T10:59:13.524618Z",
          "iopub.execute_input": "2022-02-16T10:59:13.525537Z",
          "iopub.status.idle": "2022-02-16T10:59:21.889588Z",
          "shell.execute_reply.started": "2022-02-16T10:59:13.525481Z",
          "shell.execute_reply": "2022-02-16T10:59:21.888625Z"
        },
        "trusted": true,
        "id": "nhAtAkAiNphm"
      },
      "execution_count": null,
      "outputs": []
    },
    {
      "cell_type": "markdown",
      "source": [
        "Assigning a sentiment based on the rating received.\n",
        "\n",
        "\n",
        "Positive -> 2\n",
        "\n",
        "\n",
        "Neutral -> 1\n",
        "\n",
        "\n",
        "Negative -> 0"
      ],
      "metadata": {
        "id": "GXqllwvfZaNw"
      }
    },
    {
      "cell_type": "code",
      "source": [
        "sentiments = []\n",
        "for i in range(0,df.shape[0]):\n",
        "    rating = df.iloc[i,1]\n",
        "    if rating>=4:\n",
        "        sentiments.append(2)\n",
        "    elif (rating>=2 and rating<4):\n",
        "        sentiments.append(1)\n",
        "    else:\n",
        "        sentiments.append(0)\n",
        "        \n",
        "\n",
        "df['Sentiment'] = np.vstack(sentiments)\n",
        "df = df[[\"reviewText\", \"Sentiment\"]]"
      ],
      "metadata": {
        "execution": {
          "iopub.status.busy": "2022-02-16T10:59:21.891092Z",
          "iopub.execute_input": "2022-02-16T10:59:21.891432Z"
        },
        "trusted": true,
        "id": "47UBSVKgNphn"
      },
      "execution_count": null,
      "outputs": []
    },
    {
      "cell_type": "code",
      "source": [
        "df"
      ],
      "metadata": {
        "trusted": true,
        "id": "M2xxQL49Npho",
        "outputId": "e4422708-61a8-455b-9494-c7d45b49c8fc",
        "colab": {
          "base_uri": "https://localhost:8080/",
          "height": 423
        }
      },
      "execution_count": null,
      "outputs": [
        {
          "output_type": "execute_result",
          "data": {
            "text/html": [
              "\n",
              "  <div id=\"df-b4791c71-52bf-4baa-8e9e-841b637ce506\">\n",
              "    <div class=\"colab-df-container\">\n",
              "      <div>\n",
              "<style scoped>\n",
              "    .dataframe tbody tr th:only-of-type {\n",
              "        vertical-align: middle;\n",
              "    }\n",
              "\n",
              "    .dataframe tbody tr th {\n",
              "        vertical-align: top;\n",
              "    }\n",
              "\n",
              "    .dataframe thead th {\n",
              "        text-align: right;\n",
              "    }\n",
              "</style>\n",
              "<table border=\"1\" class=\"dataframe\">\n",
              "  <thead>\n",
              "    <tr style=\"text-align: right;\">\n",
              "      <th></th>\n",
              "      <th>reviewText</th>\n",
              "      <th>Sentiment</th>\n",
              "    </tr>\n",
              "  </thead>\n",
              "  <tbody>\n",
              "    <tr>\n",
              "      <th>309737</th>\n",
              "      <td>I am sure it would have worked well with the p...</td>\n",
              "      <td>2</td>\n",
              "    </tr>\n",
              "    <tr>\n",
              "      <th>601976</th>\n",
              "      <td>Good quality</td>\n",
              "      <td>2</td>\n",
              "    </tr>\n",
              "    <tr>\n",
              "      <th>750632</th>\n",
              "      <td>Complete garbage. stay away if you don't want ...</td>\n",
              "      <td>0</td>\n",
              "    </tr>\n",
              "    <tr>\n",
              "      <th>772847</th>\n",
              "      <td>A glass one works A lot nicer</td>\n",
              "      <td>0</td>\n",
              "    </tr>\n",
              "    <tr>\n",
              "      <th>677184</th>\n",
              "      <td>These are great hangers.  Nothing will slide o...</td>\n",
              "      <td>2</td>\n",
              "    </tr>\n",
              "    <tr>\n",
              "      <th>...</th>\n",
              "      <td>...</td>\n",
              "      <td>...</td>\n",
              "    </tr>\n",
              "    <tr>\n",
              "      <th>279465</th>\n",
              "      <td>I needed a better phone case for my Note 5, be...</td>\n",
              "      <td>2</td>\n",
              "    </tr>\n",
              "    <tr>\n",
              "      <th>941336</th>\n",
              "      <td>Awesome!</td>\n",
              "      <td>2</td>\n",
              "    </tr>\n",
              "    <tr>\n",
              "      <th>436057</th>\n",
              "      <td>I bought this SIM card for my wife, who has a ...</td>\n",
              "      <td>1</td>\n",
              "    </tr>\n",
              "    <tr>\n",
              "      <th>592940</th>\n",
              "      <td>Works great</td>\n",
              "      <td>2</td>\n",
              "    </tr>\n",
              "    <tr>\n",
              "      <th>383742</th>\n",
              "      <td>Wallet doesnt hold phone very tight. Cant use ...</td>\n",
              "      <td>1</td>\n",
              "    </tr>\n",
              "  </tbody>\n",
              "</table>\n",
              "<p>100000 rows × 2 columns</p>\n",
              "</div>\n",
              "      <button class=\"colab-df-convert\" onclick=\"convertToInteractive('df-b4791c71-52bf-4baa-8e9e-841b637ce506')\"\n",
              "              title=\"Convert this dataframe to an interactive table.\"\n",
              "              style=\"display:none;\">\n",
              "        \n",
              "  <svg xmlns=\"http://www.w3.org/2000/svg\" height=\"24px\"viewBox=\"0 0 24 24\"\n",
              "       width=\"24px\">\n",
              "    <path d=\"M0 0h24v24H0V0z\" fill=\"none\"/>\n",
              "    <path d=\"M18.56 5.44l.94 2.06.94-2.06 2.06-.94-2.06-.94-.94-2.06-.94 2.06-2.06.94zm-11 1L8.5 8.5l.94-2.06 2.06-.94-2.06-.94L8.5 2.5l-.94 2.06-2.06.94zm10 10l.94 2.06.94-2.06 2.06-.94-2.06-.94-.94-2.06-.94 2.06-2.06.94z\"/><path d=\"M17.41 7.96l-1.37-1.37c-.4-.4-.92-.59-1.43-.59-.52 0-1.04.2-1.43.59L10.3 9.45l-7.72 7.72c-.78.78-.78 2.05 0 2.83L4 21.41c.39.39.9.59 1.41.59.51 0 1.02-.2 1.41-.59l7.78-7.78 2.81-2.81c.8-.78.8-2.07 0-2.86zM5.41 20L4 18.59l7.72-7.72 1.47 1.35L5.41 20z\"/>\n",
              "  </svg>\n",
              "      </button>\n",
              "      \n",
              "  <style>\n",
              "    .colab-df-container {\n",
              "      display:flex;\n",
              "      flex-wrap:wrap;\n",
              "      gap: 12px;\n",
              "    }\n",
              "\n",
              "    .colab-df-convert {\n",
              "      background-color: #E8F0FE;\n",
              "      border: none;\n",
              "      border-radius: 50%;\n",
              "      cursor: pointer;\n",
              "      display: none;\n",
              "      fill: #1967D2;\n",
              "      height: 32px;\n",
              "      padding: 0 0 0 0;\n",
              "      width: 32px;\n",
              "    }\n",
              "\n",
              "    .colab-df-convert:hover {\n",
              "      background-color: #E2EBFA;\n",
              "      box-shadow: 0px 1px 2px rgba(60, 64, 67, 0.3), 0px 1px 3px 1px rgba(60, 64, 67, 0.15);\n",
              "      fill: #174EA6;\n",
              "    }\n",
              "\n",
              "    [theme=dark] .colab-df-convert {\n",
              "      background-color: #3B4455;\n",
              "      fill: #D2E3FC;\n",
              "    }\n",
              "\n",
              "    [theme=dark] .colab-df-convert:hover {\n",
              "      background-color: #434B5C;\n",
              "      box-shadow: 0px 1px 3px 1px rgba(0, 0, 0, 0.15);\n",
              "      filter: drop-shadow(0px 1px 2px rgba(0, 0, 0, 0.3));\n",
              "      fill: #FFFFFF;\n",
              "    }\n",
              "  </style>\n",
              "\n",
              "      <script>\n",
              "        const buttonEl =\n",
              "          document.querySelector('#df-b4791c71-52bf-4baa-8e9e-841b637ce506 button.colab-df-convert');\n",
              "        buttonEl.style.display =\n",
              "          google.colab.kernel.accessAllowed ? 'block' : 'none';\n",
              "\n",
              "        async function convertToInteractive(key) {\n",
              "          const element = document.querySelector('#df-b4791c71-52bf-4baa-8e9e-841b637ce506');\n",
              "          const dataTable =\n",
              "            await google.colab.kernel.invokeFunction('convertToInteractive',\n",
              "                                                     [key], {});\n",
              "          if (!dataTable) return;\n",
              "\n",
              "          const docLinkHtml = 'Like what you see? Visit the ' +\n",
              "            '<a target=\"_blank\" href=https://colab.research.google.com/notebooks/data_table.ipynb>data table notebook</a>'\n",
              "            + ' to learn more about interactive tables.';\n",
              "          element.innerHTML = '';\n",
              "          dataTable['output_type'] = 'display_data';\n",
              "          await google.colab.output.renderOutput(dataTable, element);\n",
              "          const docLink = document.createElement('div');\n",
              "          docLink.innerHTML = docLinkHtml;\n",
              "          element.appendChild(docLink);\n",
              "        }\n",
              "      </script>\n",
              "    </div>\n",
              "  </div>\n",
              "  "
            ],
            "text/plain": [
              "                                               reviewText  Sentiment\n",
              "309737  I am sure it would have worked well with the p...          2\n",
              "601976                                       Good quality          2\n",
              "750632  Complete garbage. stay away if you don't want ...          0\n",
              "772847                      A glass one works A lot nicer          0\n",
              "677184  These are great hangers.  Nothing will slide o...          2\n",
              "...                                                   ...        ...\n",
              "279465  I needed a better phone case for my Note 5, be...          2\n",
              "941336                                           Awesome!          2\n",
              "436057  I bought this SIM card for my wife, who has a ...          1\n",
              "592940                                        Works great          2\n",
              "383742  Wallet doesnt hold phone very tight. Cant use ...          1\n",
              "\n",
              "[100000 rows x 2 columns]"
            ]
          },
          "metadata": {},
          "execution_count": 10
        }
      ]
    },
    {
      "cell_type": "code",
      "source": [
        "df = df.dropna()"
      ],
      "metadata": {
        "trusted": true,
        "id": "8HKps265Nphp"
      },
      "execution_count": null,
      "outputs": []
    },
    {
      "cell_type": "markdown",
      "source": [
        "# Formatting data as required for training"
      ],
      "metadata": {
        "id": "_MPjovwwfvit"
      }
    },
    {
      "cell_type": "code",
      "source": [
        "from sklearn.model_selection import train_test_split\n",
        "X = list(df['reviewText'])\n",
        "y = list(df['Sentiment'])\n",
        "X_train, X_test, y_train, y_test = train_test_split(X, y, test_size = 0.20, random_state = 0, stratify = y)"
      ],
      "metadata": {
        "trusted": true,
        "id": "DwPK9UMmNphq"
      },
      "execution_count": null,
      "outputs": []
    },
    {
      "cell_type": "markdown",
      "source": [
        "# Training the model"
      ],
      "metadata": {
        "id": "SR0auHC8f2n6"
      }
    },
    {
      "cell_type": "code",
      "source": [
        "\"\"\"\n",
        "dfs = []\n",
        "models = [\n",
        "          ('SVM', SVC()),\n",
        "          ('XGB', XGBClassifier())\n",
        "        ]\n",
        "\n",
        "results = []\n",
        "\n",
        "names = []\n",
        "scoring = ['accuracy', 'precision_weighted', 'recall_weighted', 'f1_weighted', 'roc_auc']\n",
        "target_names = ['negative', 'neutral', 'positive']\n",
        "\n",
        "for name, model in models:\n",
        "\n",
        "        clf = Pipeline([('tfidf',TfidfVectorizer()),('clf',model)])\n",
        "        clf.fit(X_train,y_train)\n",
        "        y_pred = clf.predict(X_test)\n",
        "        print(name)\n",
        "        print(classification_report(y_test, y_pred, target_names=target_names))\n",
        "\n",
        "\"\"\"\n"
      ],
      "metadata": {
        "id": "bGHW4C8_9aWr"
      },
      "execution_count": null,
      "outputs": []
    },
    {
      "cell_type": "code",
      "source": [
        "from sklearn.pipeline import Pipeline\n",
        "\n",
        "text_clf = Pipeline([('tfidf',TfidfVectorizer()),('clf',SVC(C=1, gamma=1.0))])\n",
        "\n",
        "text_clf.fit(X_train,y_train)\n",
        "\n",
        "predictions = text_clf.predict(X_test)\n",
        "\n",
        "print(confusion_matrix(y_test,predictions))\n",
        "cm = confusion_matrix(y_test,predictions)\n",
        "print(classification_report(y_test,predictions))"
      ],
      "metadata": {
        "id": "v_hdhVYy6d1p",
        "colab": {
          "base_uri": "https://localhost:8080/"
        },
        "outputId": "223d428a-dba9-4934-f253-4eca6ac7961e"
      },
      "execution_count": null,
      "outputs": [
        {
          "output_type": "stream",
          "name": "stdout",
          "text": [
            "[[ 2120   411   408]\n",
            " [  701  1042  1070]\n",
            " [  156   353 13717]]\n",
            "              precision    recall  f1-score   support\n",
            "\n",
            "           0       0.71      0.72      0.72      2939\n",
            "           1       0.58      0.37      0.45      2813\n",
            "           2       0.90      0.96      0.93     14226\n",
            "\n",
            "    accuracy                           0.84     19978\n",
            "   macro avg       0.73      0.69      0.70     19978\n",
            "weighted avg       0.83      0.84      0.83     19978\n",
            "\n"
          ]
        }
      ]
    },
    {
      "cell_type": "code",
      "source": [
        "cm"
      ],
      "metadata": {
        "id": "0-n1i3kmZCJC",
        "outputId": "41257c81-78dd-4cb7-df68-48337f237a64",
        "colab": {
          "base_uri": "https://localhost:8080/"
        }
      },
      "execution_count": null,
      "outputs": [
        {
          "output_type": "execute_result",
          "data": {
            "text/plain": [
              "array([[ 2120,   411,   408],\n",
              "       [  701,  1042,  1070],\n",
              "       [  156,   353, 13717]])"
            ]
          },
          "metadata": {},
          "execution_count": 34
        }
      ]
    },
    {
      "cell_type": "markdown",
      "source": [
        "# Saving the model weights"
      ],
      "metadata": {
        "id": "RqBVoGMFf7Pf"
      }
    },
    {
      "cell_type": "code",
      "source": [
        "from joblib import dump, load\n",
        "model_file = '/content/drive/MyDrive/finalized_model.joblib'\n",
        "dump(text_clf, model_file) "
      ],
      "metadata": {
        "id": "kyEsrM6Q6jRX",
        "colab": {
          "base_uri": "https://localhost:8080/"
        },
        "outputId": "b2f8c02b-a77c-43e8-ca79-e139a4ae0a8a"
      },
      "execution_count": null,
      "outputs": [
        {
          "output_type": "execute_result",
          "data": {
            "text/plain": [
              "['/content/drive/MyDrive/finalized_model.joblib']"
            ]
          },
          "metadata": {},
          "execution_count": 17
        }
      ]
    }
  ]
}